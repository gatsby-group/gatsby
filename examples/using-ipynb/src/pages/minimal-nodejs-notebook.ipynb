{
  "cells": [
    {
      "cell_type": "markdown",
      "source": [
        "This is a jupyter notebook running [Node.js](https://nodejs.org)."
      ],
      "metadata": {}
    },
    {
      "cell_type": "code",
      "source": [
        "# nodejs code\n",
        "process.version"
      ],
      "outputs": [
        {
          "output_type": "execute_result",
          "execution_count": 3,
          "data": {
            "text/plain": [
              "'v8.2.1'"
            ]
          },
          "metadata": {}
        }
      ],
      "execution_count": 3,
      "metadata": {
        "collapsed": false,
        "outputHidden": false,
        "inputHidden": false
      }
    }
  ],
  "metadata": {
    "kernel_info": {
      "name": "node_nteract"
    },
    "kernelspec": {
      "name": "node_nteract",
      "language": "javascript",
      "display_name": "Node.js (nteract)"
    },
    "language_info": {
      "name": "javascript",
      "version": "8.2.1",
      "mimetype": "application/javascript",
      "file_extension": ".js"
    },
    "nteract": {
      "version": "0.8.4"
    }
  },
  "nbformat": 4,
  "nbformat_minor": 4
}